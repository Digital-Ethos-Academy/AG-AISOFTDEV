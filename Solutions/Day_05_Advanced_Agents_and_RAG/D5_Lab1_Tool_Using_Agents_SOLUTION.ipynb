{
 "cells": [
  {
   "cell_type": "markdown",
   "metadata": {},
   "source": [
    "# Day 5 - Lab 1: Tool-Using Agents (Solution)\n",
    "\n",
    "**Objective:** Build agents that can use external tools to accomplish tasks they cannot perform on their own, using both LangChain and custom Python functions.\n",
    "\n",
    "**Introduction:**\n",
    "This solution notebook provides the complete code and explanations for building your first agents. It dives into the LangChain framework for control and flexibility, culminating in a multi-tool agent.\n",
    "\n",
    "For definitions of key terms used in this lab, please refer to the [GLOSSARY.md](../../GLOSSARY.md)."
   ]
  },
  {
   "cell_type": "markdown",
   "metadata": {},
   "source": [
    "## Step 1: Setup\n",
    "\n",
    "**Explanation:**\n",
    "We ensure all necessary libraries for this lab are installed. `langchain` and its related packages provide the core framework for building agents, while `tavily-python` is the SDK for the Tavily Search API, which our agent will use as a tool."
   ]
  },
  {
   "cell_type": "code",
   "execution_count": 1,
   "metadata": {},
   "outputs": [
    {
     "name": "stdout",
     "output_type": "stream",
     "text": [
      "✅ LLM Client configured: Using 'openai' with model 'gpt-4o'\n"
     ]
    }
   ],
   "source": [
    "import sys\n",
    "import os\n",
    "\n",
    "# Add the project's root directory to the Python path\n",
    "try:\n",
    "    project_root = os.path.abspath(os.path.join(os.getcwd(), '..', '..'))\n",
    "except IndexError:\n",
    "    project_root = os.path.abspath(os.path.join(os.getcwd()))\n",
    "\n",
    "if project_root not in sys.path:\n",
    "    sys.path.insert(0, project_root)\n",
    "\n",
    "# This helper will install packages if they are not found\n",
    "import importlib\n",
    "def install_if_missing(package):\n",
    "    try:\n",
    "        importlib.import_module(package)\n",
    "    except ImportError:\n",
    "        print(f\"{package} not found, installing...\")\n",
    "        import subprocess\n",
    "        subprocess.check_call([sys.executable, \"-m\", \"pip\", \"install\", \"-q\", package])\n",
    "\n",
    "install_if_missing('langchain')\n",
    "install_if_missing('langchain_community')\n",
    "install_if_missing('langchain_openai')\n",
    "install_if_missing('tavily')\n",
    "\n",
    "from utils import setup_llm_client\n",
    "client, model_name, api_provider = setup_llm_client(model_name=\"gpt-4o\")"
   ]
  },
  {
   "cell_type": "markdown",
   "metadata": {},
   "source": [
    "## Step 2: The Challenges - Solutions"
   ]
  },
  {
   "cell_type": "markdown",
   "metadata": {},
   "source": [
    "### Challenge 1 (Foundational): Building a LangChain Agent with One Tool\n",
    "\n",
    "**Explanation:**\n",
    "LangChain provides a modular and flexible way to build agents. \n",
    "1.  **Tool:** We instantiate `TavilySearchResults`, which is a pre-built LangChain component that knows how to call the Tavily API.\n",
    "2.  **Prompt:** The prompt is crucial. `ChatPromptTemplate.from_messages` creates a template for the conversation. The key part is the `(\"placeholder\", \"{agent_scratchpad}\")`. The `agent_scratchpad` is a special variable where the agent's internal monologue (its thoughts, tool calls, and tool outputs) is stored. This allows the agent to reason about its actions.\n",
    "3.  **Agent:** `create_tool_calling_agent` binds the LLM, the tools, and the prompt together into a runnable agent.\n",
    "4.  **AgentExecutor:** This is the runtime for the agent. It takes the agent and the tools and handles the logic of calling the agent, parsing its output to see if it wants to use a tool, executing the tool, and passing the result back to the agent to continue its reasoning."
   ]
  },
  {
   "cell_type": "code",
   "execution_count": 5,
   "metadata": {},
   "outputs": [
    {
     "name": "stdout",
     "output_type": "stream",
     "text": [
      "\n",
      "\n",
      "\u001b[1m> Entering new AgentExecutor chain...\u001b[0m\n",
      "\u001b[32;1m\u001b[1;3m\n",
      "Invoking: `tavily_search_results_json` with `{'query': 'last Super Bowl score'}`\n",
      "\n",
      "\n",
      "\u001b[0m\u001b[36;1m\u001b[1;3m[{'url': 'https://en.wikipedia.org/wiki/Super_Bowl_LIX', 'content': '### Box score\\n\\nSuper Bowl LIX – Kansas City Chiefs vs Philadelphia Eagles – Game summary\\n\\n| Quarter | 1 | 2 | 3 | 4 | Total |\\n| --- | --- | --- | --- | --- | --- |\\n| Chiefs | 0 | 0 | 6 | 16 | 22 |\\n| Eagles | 7 | 17 | 10 | 6 | 40 |\\n\\n_at Caesars Superdome, New Orleans, Louisiana_'}, {'url': 'https://en.wikipedia.org/wiki/List_of_Super_Bowl_champions', 'content': 'Super Bowl championships | Game | Date (Season) | Winning team | Score | Losing team | Venue | City | Attendance | Referee | Ref. |\\n| --- | --- | --- | --- | --- | --- | --- | --- | --- | --- |\\n| I ( | January 15, 1967 (1966 AFL/1966 NFL) | Green Bay Packersn (1, 1–0) | 35–10 | Kansas City Chiefsa (1, 0–1) | Los Angeles Memorial Coliseum | Los Angeles, California( | 61,946 | Norm Schachter | ( | [...] | XLIV | February 7, 2010 (2009) | New Orleans SaintsN (1, 1–0) | 31–17 | Indianapolis ColtsA (4, 2–2) | Sun Life Stadium (5)( | Miami Gardens, Florida (10)( | 74,059 | Scott Green \"Scott Green (American football official)\") | ( |\\n| XLV | February 6, 2011 (2010) | Green Bay PackersN (5, 4–1)( | 31–25 | Pittsburgh SteelersA (8, 6–2) | Cowboys Stadium | Arlington, Texas | 103,219 | Walt Anderson \"Walt Anderson (American football)\") | ( | [...] | LIV | February 2, 2020 (2019) | Kansas City ChiefsA (3, 2–1) | 31–20 | San Francisco 49ersN (7, 5–2) | Hard Rock Stadium (6)( | Miami Gardens, Florida (11)( | 62,417 | Bill Vinovich | ( |\\n| LV | February 7, 2021 (2020) | Tampa Bay BuccaneersN (2, 2–0)( | 31–9 | Kansas City ChiefsA (4, 2–2) | Raymond James Stadium (3) | Tampa, Florida (5) | 24,835 | Carl Cheffers | ( |'}]\u001b[0m\u001b[32;1m\u001b[1;3mThe last Super Bowl, Super Bowl LIX, was played between the Kansas City Chiefs and the Philadelphia Eagles. The final score was:\n",
      "\n",
      "- Kansas City Chiefs: 22\n",
      "- Philadelphia Eagles: 40\n",
      "\n",
      "The game was held at Caesars Superdome in New Orleans, Louisiana.\u001b[0m\n",
      "\n",
      "\u001b[1m> Finished chain.\u001b[0m\n",
      "\n",
      "Final Answer: The last Super Bowl, Super Bowl LIX, was played between the Kansas City Chiefs and the Philadelphia Eagles. The final score was:\n",
      "\n",
      "- Kansas City Chiefs: 22\n",
      "- Philadelphia Eagles: 40\n",
      "\n",
      "The game was held at Caesars Superdome in New Orleans, Louisiana.\n"
     ]
    }
   ],
   "source": [
    "from langchain_community.tools.tavily_search import TavilySearchResults\n",
    "from langchain.agents import create_tool_calling_agent, AgentExecutor\n",
    "from langchain_core.prompts import ChatPromptTemplate\n",
    "from langchain_openai import ChatOpenAI\n",
    "\n",
    "# We need to use a LangChain LLM wrapper\n",
    "llm = ChatOpenAI(model=model_name)\n",
    "\n",
    "# 1. Instantiate the Tavily search tool\n",
    "search_tool = TavilySearchResults(max_results=2)\n",
    "tools = [search_tool]\n",
    "\n",
    "# 2. Create the prompt template\n",
    "prompt = ChatPromptTemplate.from_messages([\n",
    "    (\"system\", \"You are a helpful assistant.\"),\n",
    "    (\"user\", \"{input}\"),\n",
    "    (\"placeholder\", \"{agent_scratchpad}\"),\n",
    "])\n",
    "\n",
    "# 3. Create the agent\n",
    "agent = create_tool_calling_agent(llm, tools, prompt)\n",
    "\n",
    "# 4. Create the AgentExecutor\n",
    "agent_executor = AgentExecutor(agent=agent, tools=tools, verbose=True)\n",
    "\n",
    "# 5. Invoke the agent with a question\n",
    "question = \"What was the score of the last Super Bowl?\"\n",
    "result = agent_executor.invoke({\"input\": question})\n",
    "\n",
    "print(f\"\\nFinal Answer: {result['output']}\")"
   ]
  },
  {
   "cell_type": "markdown",
   "metadata": {},
   "source": [
    "### Challenge 2 (Intermediate): Building a Multi-Tool Agent\n",
    "\n",
    "**Explanation:**\n",
    "This challenge demonstrates the core reasoning power of an agent. \n",
    "1.  **`@tool` Decorator:** LangChain provides a simple `@tool` decorator to turn any Python function into a tool that an agent can use. The function's docstring is very important, as the agent uses it to understand what the tool does.\n",
    "2.  **Tool List:** We create a new list containing both our custom `multiply` tool and the pre-built `TavilySearchResults` tool.\n",
    "3.  **Reasoning:** When the agent receives a query, it looks at the user's question and the docstrings of all available tools. It then makes a decision about which tool, if any, is the most appropriate for the task. This ability to choose the right tool for the job is the fundamental capability of an agent. For \"25 * 48\", it will see the \"Multiplies two integers\" docstring and choose the `multiply` tool. For \"Who is the CEO of Apple?\", it will recognize that it needs external information and choose the search tool."
   ]
  },
  {
   "cell_type": "code",
   "execution_count": 7,
   "metadata": {},
   "outputs": [
    {
     "name": "stdout",
     "output_type": "stream",
     "text": [
      "\n",
      "\n",
      "\u001b[1m> Entering new AgentExecutor chain...\u001b[0m\n",
      "\u001b[32;1m\u001b[1;3m\n",
      "Invoking: `multiply` with `{'a': 25, 'b': 48}`\n",
      "\n",
      "\n",
      "\u001b[0m\u001b[33;1m\u001b[1;3m1200\u001b[0m\u001b[32;1m\u001b[1;3mThe result of \\(25 \\times 48\\) is 1200.\u001b[0m\n",
      "\n",
      "\u001b[1m> Finished chain.\u001b[0m\n",
      "\n",
      "Query: What is 25 * 48?\n",
      "Final Answer: The result of \\(25 \\times 48\\) is 1200.\n",
      "\n",
      "\n",
      "\n",
      "\u001b[1m> Entering new AgentExecutor chain...\u001b[0m\n",
      "\u001b[32;1m\u001b[1;3m\n",
      "Invoking: `tavily_search_results_json` with `{'query': 'current CEO of Apple 2023'}`\n",
      "\n",
      "\n",
      "\u001b[0m\u001b[36;1m\u001b[1;3m[{'url': 'https://en.wikipedia.org/wiki/Tim_Cook', 'content': 'Wikipedia\\nThe Free Encyclopedia\\n\\n## Contents\\n\\n# Tim Cook\\n\\nPage semi-protected\\n\\n| Tim Cook | |\\n| --- | --- |\\n| Cook in 2023 | |\\n| Born | Timothy Donald Cook   (1960-11-01) November 1, 1960 (age 64)  Mobile, Alabama, U.S. |\\n| Education | Auburn University (BS) Duke University (MBA) |\\n| Occupation | Business executive |\\n| Employer | Apple Inc. (1998–present) |\\n| Title | CEO of Apple Inc. (2011–present) |\\n| Board member of | Nike, Inc. |\\n| Website | apple.com |\\n| Signature | |\\n|  | | [...] Timothy Donald Cook (born November 1, 1960) is an American business executive who is the current chief executive officer of Apple Inc. Cook had previously been the company\\'s chief operating officer under its co-founder Steve Jobs. Cook joined Apple in March 1998 as a senior vice president for worldwide operations, and then as vice president for worldwide sales and operations. He was appointed chief executive of Apple on August 24, 2011, after Jobs resigned. [...] |  |  |\\n| --- | --- |\\n| Current |  Tim Cook (CEO)  Jeff Williams \"Jeff Williams (Apple)\") (COO)  Kevan Parekh (CFO)  Katherine Adams (General Counsel)  Eddy Cue  Craig Federighi  Isabel Ge Mahe  John Giannandrea  Lisa Jackson  Greg Joswiak  Sabih Khan  Luca Maestri  Deirdre O\\'Brien  Dan Riccio  Phil Schiller  Johny Srouji  John Ternus |'}, {'url': 'https://www.apple.com/leadership/', 'content': '# Executive Profiles\\n\\n### Tim Cook\\n\\n#### CEO\\n\\n### Katherine Adams\\n\\n#### Senior Vice President and General Counsel\\n\\n### Eddy Cue\\n\\n#### Senior Vice President Services\\n\\n### Craig Federighi\\n\\n#### Senior Vice President Software Engineering\\n\\n### John Giannandrea\\n\\n#### Senior Vice President Machine Learning and AI Strategy\\n\\n### Greg “Joz” Joswiak\\n\\n#### Senior Vice President Worldwide Marketing\\n\\n### Sabih Khan\\n\\n#### Senior Vice President Operations\\n\\n### Deirdre O’Brien [...] ### Isabel Ge Mahe\\n\\n#### Vice President and Managing Director of Greater China\\n\\n### Tor Myhren\\n\\n#### Vice President Marketing Communications\\n\\n### Adrian Perica\\n\\n#### Vice President Corporate Development\\n\\n### Kristin Huguet Quayle\\n\\n#### Vice President Worldwide Communications\\n\\n### Phil Schiller\\n\\n#### Apple Fellow\\n\\n## Board of Directors\\n\\n### Arthur D. Levinson\\n\\n#### Chairman of the Board, Apple Founder and CEO Calico\\n\\n### Wanda Austin, Ph.D. [...] #### Former President and CEO The Aerospace Corporation\\n\\n### Tim Cook\\n\\n#### CEO Apple\\n\\n### Alex Gorsky\\n\\n#### Former Executive Chair Johnson & Johnson\\n\\n### Andrea Jung\\n\\n#### President and CEO Grameen America\\n\\n### Monica Lozano\\n\\n#### Former President and CEO College Futures Foundation\\n\\n### Ronald D. Sugar, Ph.D.\\n\\n#### Former Chair and CEO Northrop Grumman Corporation\\n\\n### Susan L. Wagner\\n\\n#### Co-Founder and Director BlackRock\\n\\n#### Apple Media Helpline\\n\\n(408) 974-2042\\n\\n## Apple Footer'}]\u001b[0m\u001b[32;1m\u001b[1;3mThe current CEO of Apple Inc. is Tim Cook.\u001b[0m\n",
      "\n",
      "\u001b[1m> Finished chain.\u001b[0m\n",
      "\n",
      "Query: Who is the current CEO of Apple?\n",
      "Final Answer: The current CEO of Apple Inc. is Tim Cook.\n"
     ]
    }
   ],
   "source": [
    "from langchain_core.tools import tool\n",
    "\n",
    "# 1. Define your custom calculator tool\n",
    "@tool\n",
    "def multiply(a: int, b: int) -> int:\n",
    "    \"\"\"Multiplies two integers together.\"\"\"\n",
    "    return a * b\n",
    "\n",
    "# 2. Create the new list of tools\n",
    "multi_tool_list = [TavilySearchResults(max_results=2), multiply]\n",
    "\n",
    "# 3. Create the new multi-tool agent and executor\n",
    "multi_tool_agent = create_tool_calling_agent(llm, multi_tool_list, prompt)\n",
    "multi_tool_executor = AgentExecutor(agent=multi_tool_agent, tools=multi_tool_list, verbose=True)\n",
    "\n",
    "# 4. Invoke the agent with a math question\n",
    "math_question = \"What is 25 * 48?\"\n",
    "math_result = multi_tool_executor.invoke({\"input\": math_question})\n",
    "print(f\"\\nQuery: {math_question}\\nFinal Answer: {math_result['output']}\\n\")\n",
    "\n",
    "# 5. Invoke the agent with a search question\n",
    "search_question = \"Who is the current CEO of Apple?\"\n",
    "search_result = multi_tool_executor.invoke({\"input\": search_question})\n",
    "print(f\"\\nQuery: {search_question}\\nFinal Answer: {search_result['output']}\")"
   ]
  },
  {
   "cell_type": "markdown",
   "metadata": {},
   "source": [
    "### Challenge 3 (Advanced): Improving Tool Selection with Better Docstrings\n",
    "\n",
    "**Explanation:**\n",
    "This challenge highlights the importance of 'prompt engineering' your tool's docstrings. The agent's reasoning process is heavily influenced by the descriptions of the tools it has available. A vague docstring might lead the agent to ignore a tool or use it incorrectly. A highly descriptive docstring, as shown in the solution, gives the agent a much clearer signal about the tool's purpose, leading to more reliable and efficient tool selection."
   ]
  },
  {
   "cell_type": "code",
   "execution_count": 9,
   "metadata": {},
   "outputs": [
    {
     "name": "stdout",
     "output_type": "stream",
     "text": [
      "\n",
      "\n",
      "\u001b[1m> Entering new AgentExecutor chain...\u001b[0m\n",
      "\u001b[32;1m\u001b[1;3m\n",
      "Invoking: `better_multiply` with `{'a': 25, 'b': 48}`\n",
      "\n",
      "\n",
      "\u001b[0m\u001b[33;1m\u001b[1;3m1200\u001b[0m\u001b[32;1m\u001b[1;3mThe product of 25 and 48 is 1200.\u001b[0m\n",
      "\n",
      "\u001b[1m> Finished chain.\u001b[0m\n",
      "\n",
      "Query: What is 25 * 48?\n",
      "Final Answer: The product of 25 and 48 is 1200.\n"
     ]
    }
   ],
   "source": [
    "# 1. Redefine your custom tool with a more descriptive docstring.\n",
    "@tool\n",
    "def better_multiply(a: int, b: int) -> int:\n",
    "    \"\"\"Use this tool for mathematical calculations involving multiplication. It takes two integers as input and returns their product.\"\"\"\n",
    "    return a * b\n",
    "\n",
    "# 2. Re-create the tool list, agent, and executor with the improved tool.\n",
    "improved_tool_list = [TavilySearchResults(max_results=2), better_multiply]\n",
    "improved_agent = create_tool_calling_agent(llm, improved_tool_list, prompt)\n",
    "improved_executor = AgentExecutor(agent=improved_agent, tools=improved_tool_list, verbose=True)\n",
    "\n",
    "# 3. Invoke the agent again.\n",
    "math_question = \"What is 25 * 48?\"\n",
    "improved_math_result = improved_executor.invoke({\"input\": math_question})\n",
    "print(f\"\\nQuery: {math_question}\\nFinal Answer: {improved_math_result['output']}\")"
   ]
  },
  {
   "cell_type": "markdown",
   "metadata": {},
   "source": [
    "## Lab Conclusion\n",
    "\n",
    "Congratulations! You have successfully built your first AI agents. You've learned how to give agents tools to extend their capabilities and, most importantly, how to build an agent that can reason about which tool to use for a specific task. This is the foundational skill for all advanced agentic workflows we will explore in the coming days.\n",
    "\n",
    "> **Key Takeaway:** An agent's ability to reason and act depends on its understanding of its tools. The most critical part of creating a custom tool is writing a clear, descriptive docstring that tells the agent exactly what the tool does and when to use it."
   ]
  }
 ],
 "metadata": {
  "kernelspec": {
   "display_name": "Python 3 (ipykernel)",
   "language": "python",
   "name": "python3"
  },
  "language_info": {
   "codemirror_mode": {
    "name": "ipython",
    "version": 3
   },
   "file_extension": ".py",
   "mimetype": "text/x-python",
   "name": "python",
   "nbconvert_exporter": "python",
   "pygments_lexer": "ipython3",
   "version": "3.11.9"
  }
 },
 "nbformat": 4,
 "nbformat_minor": 4
}
