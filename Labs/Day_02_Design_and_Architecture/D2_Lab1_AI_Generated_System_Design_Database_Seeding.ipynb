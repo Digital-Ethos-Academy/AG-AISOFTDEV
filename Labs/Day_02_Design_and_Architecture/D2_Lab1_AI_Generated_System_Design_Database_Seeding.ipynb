{
 "cells": [
  {
   "cell_type": "markdown",
   "metadata": {},
   "source": [
    "# Day 2 - Lab 1: AI-Generated System Design & Database Seeding\n",
    "\n",
    "**Objective:** Use the PRD artifact from Day 1 to generate a detailed SQL database schema, create realistic seed data, and then use those outputs to create and seed a live, local database file.\n",
    "\n",
    "**Estimated Time:** 150 minutes\n",
    "\n",
    "**Introduction:**\n",
    "Welcome to Day 2! Today, we transition from *what* we're building to *how* we'll build it. In this lab, you will act as the lead architect for the Onboarding Tool. Your task is to use the PRD to define the data structure of the application and create a tangible database artifact that will be used for the rest of the course.\n",
    "\n",
    "For definitions of key terms used in this lab, please refer to the [GLOSSARY.md](../../GLOSSARY.md)."
   ]
  },
  {
   "cell_type": "markdown",
   "metadata": {},
   "source": [
    "## Step 1: Setup\n",
    "\n",
    "We will load the `day1_prd.md` artifact from Day 1. This document is the primary source of truth for our project and provides the necessary context for the LLM to make intelligent design suggestions.\n",
    "\n",
    "**Model Selection:**\n",
    "Feel free to experiment with different models by changing the `model_name` in `setup_llm_client()`. Models with strong reasoning capabilities, like `gpt-4o`, `o3`, or `gemini-2.5-pro`, are excellent choices for design tasks.\n",
    "\n",
    "**Helper Functions Used:**\n",
    "- `setup_llm_client()`: To configure the API client.\n",
    "- `get_completion()`: To send prompts to the LLM.\n",
    "- `load_artifact()`: To read the PRD from the `artifacts` directory.\n",
    "- `save_artifact()`: To save the generated SQL schema and seed data.\n",
    "- `clean_llm_output()`: To remove markdown fences from the generated SQL code."
   ]
  },
  {
   "cell_type": "code",
   "metadata": {
    "ExecuteTime": {
     "end_time": "2025-10-28T13:55:11.291221Z",
     "start_time": "2025-10-28T13:55:09.916549Z"
    }
   },
   "source": [
    "import sys\n",
    "import os\n",
    "import sqlite3\n",
    "\n",
    "# Add the project's root directory to the Python path to ensure 'utils' can be imported.\n",
    "try:\n",
    "    project_root = os.path.abspath(os.path.join(os.getcwd(), '..', '..'))\n",
    "except IndexError:\n",
    "    project_root = os.path.abspath(os.path.join(os.getcwd()))\n",
    "\n",
    "if project_root not in sys.path:\n",
    "    sys.path.insert(0, project_root)\n",
    "\n",
    "from utils import setup_llm_client, get_completion, save_artifact, load_artifact, clean_llm_output\n",
    "\n",
    "client, model_name, api_provider = setup_llm_client(model_name=\"gemini-2.5-pro\")\n",
    "\n",
    "# Load the PRD from Day 1\n",
    "prd_content = load_artifact(\"artifacts/day1_prd.md\")\n",
    "if not prd_content:\n",
    "    print(\"Warning: Could not load day1_prd.md. Lab may not function correctly.\")"
   ],
   "outputs": [
    {
     "name": "stderr",
     "output_type": "stream",
     "text": [
      "2025-10-28 09:55:11,289 ag_aisoftdev.utils INFO LLM Client configured provider=google model=gemini-2.5-pro latency_ms=None artifacts_path=None\n"
     ]
    }
   ],
   "execution_count": 1
  },
  {
   "cell_type": "markdown",
   "metadata": {},
   "source": [
    "## Step 2: The Challenges"
   ]
  },
  {
   "cell_type": "markdown",
   "metadata": {},
   "source": [
    "### Challenge 1 (Foundational): Generating the SQL Schema\n",
    "\n",
    "**Task:** Use the PRD to generate a normalized SQL schema for the application.\n",
    "\n",
    "**Instructions:**\n",
    "1.  Create a prompt that instructs the LLM to act as a Database Administrator (DBA).\n",
    "2.  Provide the `prd_content` as context.\n",
    "3.  Ask the LLM to design a normalized SQL schema with at least two tables (e.g., `users` and `onboarding_tasks`).\n",
    "4.  The output should be the raw `CREATE TABLE` statements.\n",
    "5.  Save the generated SQL to `artifacts/schema.sql`."
   ]
  },
  {
   "cell_type": "code",
   "metadata": {
    "ExecuteTime": {
     "end_time": "2025-10-28T13:56:08.418992Z",
     "start_time": "2025-10-28T13:55:21.281469Z"
    }
   },
   "source": "# TODO: Write a prompt to generate the SQL schema from the PRD.\nschema_prompt = f\"\"\"\nYou are an experienced Database Administrator (DBA) tasked with designing a normalized SQL database schema for the Momentum Onboarding Platform based on the Product Requirements Document (PRD) provided below.\n\n**Your Task:**\n1. Analyze the PRD to identify all the core entities and their relationships\n2. Design a normalized SQL schema (at least 3NF) with a minimum of two tables\n3. Include appropriate primary keys, foreign keys, and constraints\n4. Add indexes where appropriate for performance\n5. Consider the user personas (New Hires, Managers, HR Admins) and their different needs\n6. Output ONLY the raw CREATE TABLE statements - no explanations, comments, or markdown formatting\n\n**Key Entities to Consider (at minimum):**\n- Users (with different roles: new hire, manager, HR admin, buddy)\n- Onboarding tasks and templates\n- Task assignments and their completion status\n- Any other entities you identify as necessary from the PRD\n\n**Requirements:**\n- Use SQLite-compatible syntax\n- Include appropriate data types (TEXT, INTEGER, REAL, BLOB, or DATE/DATETIME)\n- Add NOT NULL constraints where data is required\n- Use foreign keys to establish relationships between tables\n- Consider timestamps for tracking creation and updates\n- Ensure the schema supports all the user stories in the PRD\n\n**PRD Content:**\n{prd_content}\n\nGenerate the SQL CREATE TABLE statements now:\n\"\"\"\n\nprint(\"--- Generating SQL Schema ---\")\nif prd_content:\n    generated_schema = get_completion(schema_prompt, client, model_name, api_provider)\n    \n    # Clean up the generated schema using our helper function\n    cleaned_schema = clean_llm_output(generated_schema, language='sql')\n    print(cleaned_schema)\n    \n    # Save the cleaned schema\n    save_artifact(cleaned_schema, 'artifacts/schema.sql')\nelse:\n    print(\"Skipping schema generation because PRD is missing.\")\n    cleaned_schema = \"\"",
   "outputs": [
    {
     "name": "stdout",
     "output_type": "stream",
     "text": [
      "--- Generating SQL Schema ---\n",
      "CREATE TABLE users (\n",
      "    user_id INTEGER PRIMARY KEY,\n",
      "    full_name TEXT NOT NULL,\n",
      "    email TEXT NOT NULL UNIQUE,\n",
      "    sso_identifier TEXT UNIQUE,\n",
      "    role TEXT NOT NULL CHECK(role IN ('new_hire', 'manager', 'hr_admin')),\n",
      "    manager_id INTEGER,\n",
      "    hire_date DATE,\n",
      "    created_at DATETIME NOT NULL DEFAULT CURRENT_TIMESTAMP,\n",
      "    updated_at DATETIME NOT NULL DEFAULT CURRENT_TIMESTAMP,\n",
      "    FOREIGN KEY (manager_id) REFERENCES users(user_id) ON DELETE SET NULL\n",
      ");\n",
      "\n",
      "CREATE TABLE templates (\n",
      "    template_id INTEGER PRIMARY KEY,\n",
      "    name TEXT NOT NULL UNIQUE,\n",
      "    description TEXT,\n",
      "    template_type TEXT NOT NULL CHECK(template_type IN ('ONBOARDING_JOURNEY', 'ROLE_PLAYBOOK', '30_60_90_PLAN')),\n",
      "    created_by_user_id INTEGER NOT NULL,\n",
      "    created_at DATETIME NOT NULL DEFAULT CURRENT_TIMESTAMP,\n",
      "    updated_at DATETIME NOT NULL DEFAULT CURRENT_TIMESTAMP,\n",
      "    FOREIGN KEY (created_by_user_id) REFERENCES users(user_id)\n",
      ");\n",
      "\n",
      "CREATE TABLE template_tasks (\n",
      "    template_task_id INTEGER PRIMARY KEY,\n",
      "    template_id INTEGER NOT NULL,\n",
      "    title TEXT NOT NULL,\n",
      "    description TEXT,\n",
      "    default_due_days_offset INTEGER NOT NULL DEFAULT 0,\n",
      "    default_assignee_role TEXT NOT NULL CHECK(default_assignee_role IN ('new_hire', 'manager', 'buddy', 'hr_admin', 'it')),\n",
      "    is_compliance_task INTEGER NOT NULL DEFAULT 0,\n",
      "    display_order INTEGER NOT NULL DEFAULT 0,\n",
      "    FOREIGN KEY (template_id) REFERENCES templates(template_id) ON DELETE CASCADE\n",
      ");\n",
      "\n",
      "CREATE TABLE onboarding_plans (\n",
      "    plan_id INTEGER PRIMARY KEY,\n",
      "    new_hire_user_id INTEGER NOT NULL UNIQUE,\n",
      "    buddy_user_id INTEGER,\n",
      "    start_date DATE NOT NULL,\n",
      "    status TEXT NOT NULL CHECK(status IN ('preboarding', 'active', 'completed')),\n",
      "    created_at DATETIME NOT NULL DEFAULT CURRENT_TIMESTAMP,\n",
      "    updated_at DATETIME NOT NULL DEFAULT CURRENT_TIMESTAMP,\n",
      "    FOREIGN KEY (new_hire_user_id) REFERENCES users(user_id) ON DELETE CASCADE,\n",
      "    FOREIGN KEY (buddy_user_id) REFERENCES users(user_id) ON DELETE SET NULL\n",
      ");\n",
      "\n",
      "CREATE TABLE plan_templates (\n",
      "    plan_id INTEGER NOT NULL,\n",
      "    template_id INTEGER NOT NULL,\n",
      "    PRIMARY KEY (plan_id, template_id),\n",
      "    FOREIGN KEY (plan_id) REFERENCES onboarding_plans(plan_id) ON DELETE CASCADE,\n",
      "    FOREIGN KEY (template_id) REFERENCES templates(template_id) ON DELETE CASCADE\n",
      ");\n",
      "\n",
      "CREATE TABLE assigned_tasks (\n",
      "    assigned_task_id INTEGER PRIMARY KEY,\n",
      "    plan_id INTEGER NOT NULL,\n",
      "    assignee_user_id INTEGER NOT NULL,\n",
      "    template_task_id INTEGER,\n",
      "    title TEXT NOT NULL,\n",
      "    description TEXT,\n",
      "    status TEXT NOT NULL CHECK(status IN ('pending', 'completed')),\n",
      "    due_date DATE,\n",
      "    completed_at DATETIME,\n",
      "    created_at DATETIME NOT NULL DEFAULT CURRENT_TIMESTAMP,\n",
      "    updated_at DATETIME NOT NULL DEFAULT CURRENT_TIMESTAMP,\n",
      "    FOREIGN KEY (plan_id) REFERENCES onboarding_plans(plan_id) ON DELETE CASCADE,\n",
      "    FOREIGN KEY (assignee_user_id) REFERENCES users(user_id) ON DELETE CASCADE,\n",
      "    FOREIGN KEY (template_task_id) REFERENCES template_tasks(template_task_id) ON DELETE SET NULL\n",
      ");\n",
      "\n",
      "CREATE TABLE resources (\n",
      "    resource_id INTEGER PRIMARY KEY,\n",
      "    title TEXT NOT NULL,\n",
      "    resource_type TEXT NOT NULL CHECK(resource_type IN ('LINK', 'DOCUMENT', 'PAGE')),\n",
      "    content TEXT NOT NULL,\n",
      "    created_by_user_id INTEGER NOT NULL,\n",
      "    is_published INTEGER NOT NULL DEFAULT 1,\n",
      "    created_at DATETIME NOT NULL DEFAULT CURRENT_TIMESTAMP,\n",
      "    updated_at DATETIME NOT NULL DEFAULT CURRENT_TIMESTAMP,\n",
      "    FOREIGN KEY (created_by_user_id) REFERENCES users(user_id)\n",
      ");\n",
      "\n",
      "CREATE TABLE schedule_events (\n",
      "    event_id INTEGER PRIMARY KEY,\n",
      "    plan_id INTEGER NOT NULL,\n",
      "    title TEXT NOT NULL,\n",
      "    description TEXT,\n",
      "    start_time DATETIME NOT NULL,\n",
      "    end_time DATETIME NOT NULL,\n",
      "    location_or_link TEXT,\n",
      "    created_by_user_id INTEGER NOT NULL,\n",
      "    created_at DATETIME NOT NULL DEFAULT CURRENT_TIMESTAMP,\n",
      "    FOREIGN KEY (plan_id) REFERENCES onboarding_plans(plan_id) ON DELETE CASCADE,\n",
      "    FOREIGN KEY (created_by_user_id) REFERENCES users(user_id)\n",
      ");\n",
      "\n",
      "CREATE TABLE event_attendees (\n",
      "    event_id INTEGER NOT NULL,\n",
      "    user_id INTEGER NOT NULL,\n",
      "    PRIMARY KEY (event_id, user_id),\n",
      "    FOREIGN KEY (event_id) REFERENCES schedule_events(event_id) ON DELETE CASCADE,\n",
      "    FOREIGN KEY (user_id) REFERENCES users(user_id) ON DELETE CASCADE\n",
      ");\n",
      "\n",
      "CREATE TABLE survey_responses (\n",
      "    response_id INTEGER PRIMARY KEY,\n",
      "    plan_id INTEGER NOT NULL,\n",
      "    nps_score INTEGER CHECK(nps_score >= 0 AND nps_score <= 10),\n",
      "    feedback_text TEXT,\n",
      "    submitted_at DATETIME NOT NULL DEFAULT CURRENT_TIMESTAMP,\n",
      "    FOREIGN KEY (plan_id) REFERENCES onboarding_plans(plan_id) ON DELETE CASCADE\n",
      ");\n",
      "\n",
      "CREATE INDEX idx_users_email ON users(email);\n",
      "CREATE INDEX idx_users_manager_id ON users(manager_id);\n",
      "CREATE INDEX idx_template_tasks_template_id ON template_tasks(template_id);\n",
      "CREATE INDEX idx_onboarding_plans_new_hire_id ON onboarding_plans(new_hire_user_id);\n",
      "CREATE INDEX idx_assigned_tasks_plan_id ON assigned_tasks(plan_id);\n",
      "CREATE INDEX idx_assigned_tasks_assignee_id_status ON assigned_tasks(assignee_user_id, status);\n",
      "CREATE INDEX idx_schedule_events_plan_id_start_time ON schedule_events(plan_id, start_time);\n"
     ]
    }
   ],
   "execution_count": 2
  },
  {
   "cell_type": "markdown",
   "metadata": {},
   "source": [
    "### Challenge 2 (Intermediate): Generating Realistic Seed Data\n",
    "\n",
    "**Task:** Prompt the LLM to generate realistic seed data that conforms to the schema you just created.\n",
    "\n",
    "**Instructions:**\n",
    "1.  Create a new prompt.\n",
    "2.  Provide both the `prd_content` and the `cleaned_schema` as context.\n",
    "3.  Instruct the LLM to generate 5-10 realistic `INSERT` statements for your tables.\n",
    "4.  The data should be relevant to a new hire onboarding tool (e.g., sample user names and task titles like \"Complete HR Paperwork\").\n",
    "5.  Save the generated `INSERT` statements to `artifacts/seed_data.sql`."
   ]
  },
  {
   "cell_type": "code",
   "metadata": {
    "ExecuteTime": {
     "end_time": "2025-10-28T14:06:51.348347Z",
     "start_time": "2025-10-28T14:06:06.449892Z"
    }
   },
   "source": "# TODO: Write a prompt to generate realistic seed data.\nseed_data_prompt = f\"\"\"\nYou are an experienced Database Administrator (DBA) tasked with generating realistic seed data for the Momentum Onboarding Platform database.\n\n**Your Task:**\nGenerate 5-10 realistic INSERT statements for each table in the schema provided below. The data should be:\n1. Contextually appropriate for a new hire onboarding system\n2. Consistent across related tables (foreign keys must reference existing primary keys)\n3. Realistic and representative of actual onboarding scenarios\n4. Diverse enough to demonstrate the system's capabilities\n\n**Data Guidelines:**\n- **Users**: Include a mix of roles (HR admin, hiring managers, new hires, buddies)\n  - Example names: Sarah Chen (HR Admin), David Martinez (Manager), Amelia Johnson (New Hire), etc.\n  - Use realistic email addresses following a corporate pattern (e.g., firstname.lastname@momentum.com)\n  \n- **Onboarding Tasks**: Include realistic tasks such as:\n  - \"Complete HR Paperwork\" (pre-boarding)\n  - \"Set up laptop and accounts\" (IT setup)\n  - \"Review company handbook\" (compliance)\n  - \"Schedule 1-on-1 with manager\" (orientation)\n  - \"Complete Security Training\" (compliance/mandatory)\n  - \"Meet your onboarding buddy\" (team integration)\n  - \"First quick win project: Update team wiki\" (first project)\n  \n- **Task Status**: Mix of pending, in_progress, and completed tasks\n- **Dates**: Use realistic timestamps (recent dates, logical sequences)\n- **Templates**: Include at least one generic onboarding template and one role-specific template (e.g., Engineering or Sales)\n\n**Output Requirements:**\n- Generate ONLY raw SQL INSERT statements\n- No explanations, comments, or markdown formatting\n- Ensure data integrity (all foreign keys reference valid primary keys)\n- Use proper SQLite syntax for dates and text escaping\n- Insert data in the correct order (parent tables before child tables that reference them)\n\n**Database Schema:**\n{cleaned_schema}\n\n**PRD Context (for understanding the domain):**\n{prd_content}\n\nGenerate the SQL INSERT statements now:\n\"\"\"\n\nprint(\"--- Generating Seed Data ---\")\nif prd_content and cleaned_schema:\n    generated_seed_data = get_completion(seed_data_prompt, client, model_name, api_provider)\n    \n    # Clean up the generated seed data\n    cleaned_seed_data = clean_llm_output(generated_seed_data, language='sql')\n    print(cleaned_seed_data)\n    \n    # Save the cleaned seed data\n    save_artifact(cleaned_seed_data, 'artifacts/seed_data.sql')\nelse:\n    print(\"Skipping seed data generation because PRD or schema is missing.\")",
   "outputs": [
    {
     "name": "stdout",
     "output_type": "stream",
     "text": [
      "--- Generating Seed Data ---\n",
      "INSERT INTO users (user_id, full_name, email, sso_identifier, role, manager_id, hire_date, created_at, updated_at) VALUES\n",
      "(1, 'Sarah Chen', 'sarah.chen@momentum.com', 'auth0|sarah.chen', 'hr_admin', NULL, '2022-01-15', '2022-01-10 09:00:00', '2022-01-10 09:00:00'),\n",
      "(2, 'David Martinez', 'david.martinez@momentum.com', 'auth0|david.martinez', 'manager', NULL, '2022-03-20', '2022-03-15 11:30:00', '2022-03-15 11:30:00'),\n",
      "(3, 'Emily White', 'emily.white@momentum.com', 'auth0|emily.white', 'manager', NULL, '2022-05-11', '2022-05-01 14:00:00', '2022-05-01 14:00:00'),\n",
      "(4, 'Amelia Johnson', 'amelia.johnson@momentum.com', 'auth0|amelia.johnson', 'new_hire', 2, '2023-10-23', '2023-10-01 10:00:00', '2023-10-01 10:00:00'),\n",
      "(5, 'Ben Carter', 'ben.carter@momentum.com', 'auth0|ben.carter', 'new_hire', 3, '2023-10-30', '2023-10-15 16:20:00', '2023-10-15 16:20:00'),\n",
      "(6, 'Chloe Davis', 'chloe.davis@momentum.com', 'auth0|chloe.davis', 'new_hire', 2, '2023-11-06', '2023-10-25 09:15:00', '2023-10-25 09:15:00'),\n",
      "(7, 'Michael Lee', 'michael.lee@momentum.com', 'auth0|michael.lee', 'manager', 2, '2023-02-01', '2023-01-20 12:00:00', '2023-01-20 12:00:00'),\n",
      "(8, 'Olivia Rodriguez', 'olivia.rodriguez@momentum.com', 'auth0|olivia.rodriguez', 'manager', 3, '2023-04-10', '2023-04-01 13:45:00', '2023-04-01 13:45:00'),\n",
      "(9, 'Leo Garcia', 'leo.garcia@momentum.com', 'auth0|leo.garcia', 'new_hire', 3, '2023-08-01', '2023-07-20 11:00:00', '2023-09-15 17:00:00');\n",
      "\n",
      "INSERT INTO templates (template_id, name, description, template_type, created_by_user_id, created_at, updated_at) VALUES\n",
      "(1, 'General Company Onboarding', 'Standard tasks for all new hires at Momentum.', 'ONBOARDING_JOURNEY', 1, '2023-01-05 10:00:00', '2023-09-15 14:30:00'),\n",
      "(2, 'Engineering Role Playbook', 'Specific tasks and resources for new software engineers.', 'ROLE_PLAYBOOK', 1, '2023-02-10 11:00:00', '2023-08-20 16:00:00'),\n",
      "(3, 'Sales 30-60-90 Plan', 'A structured plan to ramp up new sales team members.', '30_60_90_PLAN', 1, '2023-03-15 09:30:00', '2023-03-15 09:30:00');\n",
      "\n",
      "INSERT INTO template_tasks (template_task_id, template_id, title, description, default_due_days_offset, default_assignee_role, is_compliance_task, display_order) VALUES\n",
      "(1, 1, 'Complete HR Paperwork', 'Fill out I-9, W-4, and direct deposit forms in the HR portal.', -5, 'new_hire', 1, 1),\n",
      "(2, 1, 'Review Company Handbook', 'Read the employee handbook and sign the acknowledgement form.', 3, 'new_hire', 1, 2),\n",
      "(3, 1, 'Set up laptop and accounts', 'Work with IT to get your machine and access to key systems.', 0, 'it', 0, 3),\n",
      "(4, 1, 'Schedule 1-on-1 with manager', 'Set up a recurring weekly check-in with your direct manager.', 1, 'manager', 0, 4),\n",
      "(5, 1, 'Meet your onboarding buddy', 'Grab coffee or have a virtual chat with your assigned buddy.', 2, 'new_hire', 0, 5),\n",
      "(6, 2, 'Set up local dev environment', 'Follow the guide on the engineering wiki to get your local environment running.', 2, 'new_hire', 0, 1),\n",
      "(7, 2, 'Review coding standards', 'Familiarize yourself with our team''s coding conventions and best practices.', 3, 'new_hire', 0, 2),\n",
      "(8, 2, 'First quick win project: Update team wiki', 'Fix a typo or add a missing link to the team wiki to complete your first PR.', 5, 'new_hire', 0, 3),\n",
      "(9, 3, 'Complete CRM Training', 'Go through the mandatory Salesforce training modules.', 7, 'new_hire', 0, 1),\n",
      "(10, 3, 'Shadow a discovery call', 'Listen in on a discovery call with a senior Account Executive.', 10, 'new_hire', 0, 2);\n",
      "\n",
      "INSERT INTO onboarding_plans (plan_id, new_hire_user_id, buddy_user_id, start_date, status, created_at, updated_at) VALUES\n",
      "(1, 4, 7, '2023-10-23', 'active', '2023-10-02 11:00:00', '2023-10-24 09:05:00'),\n",
      "(2, 5, 8, '2023-10-30', 'active', '2023-10-16 10:00:00', '2023-10-30 14:00:00'),\n",
      "(3, 6, 7, '2023-11-06', 'preboarding', '2023-10-25 10:00:00', '2023-10-25 10:00:00'),\n",
      "(4, 9, 8, '2023-08-01', 'completed', '2023-07-21 14:00:00', '2023-09-10 16:00:00');\n",
      "\n",
      "INSERT INTO plan_templates (plan_id, template_id) VALUES\n",
      "(1, 1),\n",
      "(1, 2),\n",
      "(2, 1),\n",
      "(2, 3),\n",
      "(3, 1),\n",
      "(4, 1);\n",
      "\n",
      "INSERT INTO assigned_tasks (assigned_task_id, plan_id, assignee_user_id, template_task_id, title, description, status, due_date, completed_at, created_at, updated_at) VALUES\n",
      "(1, 1, 4, 1, 'Complete HR Paperwork', 'Fill out I-9, W-4, and direct deposit forms in the HR portal.', 'completed', '2023-10-18', '2023-10-17 15:30:00', '2023-10-02 11:00:01', '2023-10-17 15:30:00'),\n",
      "(2, 1, 4, 6, 'Set up local dev environment', 'Follow the guide on the engineering wiki to get your local environment running.', 'pending', '2023-10-25', NULL, '2023-10-02 11:00:02', '2023-10-24 10:00:00'),\n",
      "(3, 1, 2, 4, 'Schedule 1-on-1 with manager', 'Set up a recurring weekly check-in with Amelia.', 'completed', '2023-10-24', '2023-10-23 11:45:00', '2023-10-02 11:00:03', '2023-10-23 11:45:00'),\n",
      "(4, 1, 4, 5, 'Meet your onboarding buddy', 'Grab coffee or have a virtual chat with Michael.', 'pending', '2023-10-25', NULL, '2023-10-02 11:00:04', '2023-10-02 11:00:04'),\n",
      "(5, 2, 5, 1, 'Complete HR Paperwork', 'Fill out I-9, W-4, and direct deposit forms in the HR portal.', 'completed', '2023-10-25', '2023-10-24 11:00:00', '2023-10-16 10:00:01', '2023-10-24 11:00:00'),\n",
      "(6, 2, 5, 9, 'Complete CRM Training', 'Go through the mandatory Salesforce training modules.', 'pending', '2023-11-06', NULL, '2023-10-16 10:00:02', '2023-10-16 10:00:02'),\n",
      "(7, 3, 6, 1, 'Complete HR Paperwork', 'Fill out I-9, W-4, and direct deposit forms in the HR portal.', 'pending', '2023-11-01', NULL, '2023-10-25 10:00:01', '2023-10-25 10:00:01'),\n",
      "(8, 4, 9, 2, 'Review Company Handbook', 'Read the employee handbook and sign the acknowledgement form.', 'completed', '2023-08-04', '2023-08-03 10:22:00', '2023-07-21 14:00:01', '2023-08-03 10:22:00'),\n",
      "(9, 1, 4, NULL, 'Join the #engineering Slack channel', 'Introduce yourself in the main engineering team channel.', 'completed', '2023-10-23', '2023-10-23 09:30:15', '2023-10-23 09:10:00', '2023-10-23 09:30:15');\n",
      "\n",
      "INSERT INTO resources (resource_id, title, resource_type, content, created_by_user_id, is_published, created_at, updated_at) VALUES\n",
      "(1, 'Company Handbook 2023', 'DOCUMENT', '/docs/handbook_v4.2.pdf', 1, 1, '2023-01-10 15:00:00', '2023-08-01 11:00:00'),\n",
      "(2, 'Momentum Org Chart', 'PAGE', '<h1>Company Organization</h1><p>Our interactive org chart is hosted on Pingboard...</p>', 1, 1, '2023-02-01 12:00:00', '2023-10-15 10:00:00'),\n",
      "(3, 'Employee Benefits Portal', 'LINK', 'https://benefits.zenefits.com/momentum', 1, 1, '2023-01-15 16:00:00', '2023-01-15 16:00:00'),\n",
      "(4, 'Engineering Team Wiki', 'LINK', 'https://momentum.atlassian.net/wiki/spaces/ENG', 2, 1, '2023-05-20 10:00:00', '2023-09-30 14:00:00');\n",
      "\n",
      "INSERT INTO schedule_events (event_id, plan_id, title, description, start_time, end_time, location_or_link, created_by_user_id, created_at) VALUES\n",
      "(1, 1, 'Engineering Team Welcome Lunch', 'A casual lunch to welcome Amelia to the team!', '2023-10-24 12:00:00', '2023-10-24 13:00:00', 'Cafeteria, Building A', 2, '2023-10-18 14:00:00'),\n",
      "(2, 1, 'IT Onboarding & Setup', 'Session with IT to get hardware and accounts configured.', '2023-10-23 09:30:00', '2023-10-23 11:00:00', 'IT Helpdesk, 3rd Floor', 1, '2023-10-10 16:00:00'),\n",
      "(3, 2, 'Sales Kick-off Meeting', 'Introduction to the sales team and Q4 goals.', '2023-10-30 10:00:00', '2023-10-30 11:00:00', 'https://zoom.us/j/123456789', 3, '2023-10-20 11:30:00'),\n",
      "(4, 2, 'Intro with Marketing Team', 'Meet the marketing leads to understand collaboration points.', '2023-11-01 14:00:00', '2023-11-01 14:30:00', 'Conference Room 4B', 3, '2023-10-26 09:00:00');\n",
      "\n",
      "INSERT INTO event_attendees (event_id, user_id) VALUES\n",
      "(1, 4),\n",
      "(1, 2),\n",
      "(1, 7),\n",
      "(2, 4),\n",
      "(3, 5),\n",
      "(3, 3),\n",
      "(3, 8),\n",
      "(4, 5);\n",
      "\n",
      "INSERT INTO survey_responses (response_id, plan_id, nps_score, feedback_text, submitted_at) VALUES\n",
      "(1, 4, 9, 'The entire process was very smooth. My buddy, Olivia, was fantastic and helped me get up to speed quickly. Having a clear task list from day one was a huge help!', '2023-08-31 10:15:00');\n"
     ]
    }
   ],
   "execution_count": 3
  },
  {
   "cell_type": "markdown",
   "metadata": {},
   "source": [
    "### Challenge 3 (Advanced): Creating and Seeding a Live Database\n",
    "\n",
    "**Task:** This is a critical technical step. You will write a Python script to execute the generated SQL files, creating a live `onboarding.db` file that your application will use.\n",
    "\n",
    "**Instructions:**\n",
    "1.  Complete the `create_database` function below.\n",
    "2.  The function should first connect to (and thus create) a SQLite database file named `artifacts/onboarding.db`.\n",
    "3.  It should then open and execute the `schema.sql` file to create the tables.\n",
    "4.  Finally, it should open and execute the `seed_data.sql` file to populate the tables.\n",
    "5.  Use a `try...finally` block to ensure the database connection is always closed, even if an error occurs.\n",
    "\n",
    "> **Hint:** The `try...finally` block is a crucial Python pattern. The code in the `finally` block will run whether the `try` block succeeds or fails, making it the perfect place to ensure resources like database connections are always closed.\n",
    "\n",
    "**Expected Quality:** A physical `onboarding.db` file in your `artifacts` folder. This is a tangible asset that proves your design is valid and provides a concrete foundation for backend development."
   ]
  },
  {
   "cell_type": "code",
   "metadata": {
    "ExecuteTime": {
     "end_time": "2025-10-28T14:21:09.294825Z",
     "start_time": "2025-10-28T14:21:09.267912Z"
    }
   },
   "source": "def create_database(db_path, schema_path, seed_path):\n    \"\"\"Creates and seeds a SQLite database from SQL files.\"\"\"\n    if not os.path.exists(schema_path):\n        print(f\"Error: Schema file not found at {schema_path}\")\n        return\n    \n    conn = None\n    try:\n        # TODO: Connect to the SQLite database. This will create the file if it doesn't exist.\n        conn = sqlite3.connect(db_path)\n        cursor = conn.cursor()\n        print(f\"Successfully connected to database at {db_path}\")\n\n        # TODO: Read the content of the schema file using load_artifact.\n        schema_sql = load_artifact(schema_path)\n        \n        # TODO: Execute the schema SQL script.\n        # Hint: Use cursor.executescript() for multi-statement SQL strings.\n        if schema_sql:\n            cursor.executescript(schema_sql)\n            print(\"Tables created successfully.\")\n        else:\n            print(\"Error: Schema file is empty or could not be read.\")\n            return\n\n        # TODO: Check if the seed data file exists. If it does, load and execute it.\n        if os.path.exists(seed_path):\n            # Load and execute the seed data\n            seed_sql = load_artifact(seed_path)\n            if seed_sql:\n                cursor.executescript(seed_sql)\n                print(\"Seed data inserted successfully.\")\n            else:\n                print(\"Warning: Seed data file is empty or could not be read.\")\n        else:\n            print(f\"Warning: Seed data file not found at {seed_path}. Skipping seed data insertion.\")\n\n        # TODO: Commit the changes to the database.\n        conn.commit()\n        print(\"Database changes committed successfully.\")\n        \n    except sqlite3.Error as e:\n        print(f\"Database error: {e}\")\n    finally:\n        # TODO: Ensure the connection is closed if it was opened.\n        if conn:\n            conn.close()\n            print(\"Database connection closed.\")\n\n# Define file paths\ndb_file = os.path.join(project_root, \"artifacts\", \"onboarding.db\")\nschema_file = os.path.join(project_root, \"artifacts\", \"schema.sql\")\nseed_file = os.path.join(project_root, \"artifacts\", \"seed_data.sql\")\n\n# Execute the function\ncreate_database(db_file, schema_file, seed_file)",
   "outputs": [
    {
     "name": "stdout",
     "output_type": "stream",
     "text": [
      "Successfully connected to database at /Users/brianfisher/trainingRepos/AG-AISOFTDEV/artifacts/onboarding.db\n",
      "Tables created successfully.\n",
      "Seed data inserted successfully.\n",
      "Database changes committed successfully.\n",
      "Database connection closed.\n"
     ]
    }
   ],
   "execution_count": 4
  },
  {
   "cell_type": "markdown",
   "metadata": {},
   "source": [
    "## Lab Conclusion\n",
    "\n",
    "Excellent work! You have now moved from abstract requirements to a concrete, physical database artifact. You've used an LLM to design a schema, generate realistic test data, and then used a Python script to bring that database to life. This `onboarding.db` file is the foundation upon which we will build our API in Day 3.\n",
    "\n",
    "> **Key Takeaway:** The ability to generate structured data definitions (like a SQL schema) from unstructured text (like a PRD) is a core skill in AI-assisted development. It automates a critical and often time-consuming design step."
   ]
  }
 ],
 "metadata": {
  "kernelspec": {
   "display_name": "Python 3 (ipykernel)",
   "language": "python",
   "name": "python3"
  },
  "language_info": {
   "codemirror_mode": {
    "name": "ipython",
    "version": 3
   },
   "file_extension": ".py",
   "mimetype": "text/x-python",
   "name": "python",
   "nbconvert_exporter": "python",
   "pygments_lexer": "ipython3",
   "version": "3.11.9"
  }
 },
 "nbformat": 4,
 "nbformat_minor": 4
}
