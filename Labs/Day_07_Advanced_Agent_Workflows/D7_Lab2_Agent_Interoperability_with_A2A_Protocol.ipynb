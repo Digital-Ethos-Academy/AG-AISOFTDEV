{
 "cells": [
  {
   "cell_type": "markdown",
   "metadata": {},
   "source": [
    "# Day 7 - Lab 2: Agent Interoperability with A2A Protocol\n",
    "\n",
    "**Objective:** Master agent-to-agent communication using the A2A protocol for building collaborative multi-agent onboarding systems.\n",
    "\n",
    "**Estimated Time:** 135 minutes\n",
    "\n",
    "## Introduction\n",
    "\n",
    "In this lab, you'll implement the A2A (Agent-to-Agent) protocol from scratch using pure Python. You'll build specialized agents that collaborate to onboard new employees.\n",
    "\n",
    "### Why A2A?\n",
    "\n",
    "Modern AI systems require multiple specialized agents:\n",
    "- **DocumentationAgent**: Answers policy questions\n",
    "- **AccessSetupAgent**: Manages system permissions\n",
    "- **TrainingScheduleAgent**: Plans learning paths\n",
    "- **CoordinatorAgent**: Orchestrates the workflow\n",
    "\n",
    "A2A enables these agents to:\n",
    "1. **Discover** each other's capabilities\n",
    "2. **Communicate** with structured messages\n",
    "3. **Collaborate** on complex tasks\n",
    "\n",
    "By the end, you'll have a working multi-agent onboarding system."
   ]
  },
  {
   "cell_type": "markdown",
   "metadata": {},
   "source": [
    "## Step 1: Environment Setup (No External Dependencies!)"
   ]
  },
  {
   "cell_type": "code",
   "execution_count": null,
   "metadata": {},
   "outputs": [],
   "source": [
    "import sys\n",
    "import os\n",
    "import json\n",
    "import uuid\n",
    "import time\n",
    "import asyncio\n",
    "from datetime import datetime, timedelta\n",
    "from dataclasses import dataclass, field, asdict\n",
    "from typing import List, Dict, Optional, Any, Callable\n",
    "from enum import Enum\n",
    "from collections import defaultdict\n",
    "import queue\n",
    "import threading\n",
    "\n",
    "# Add project root to path\n",
    "project_root = os.path.abspath(os.path.join(os.getcwd(), '..', '..'))\n",
    "if project_root not in sys.path:\n",
    "    sys.path.insert(0, project_root)\n",
    "\n",
    "from utils import setup_llm_client, save_artifact\n",
    "client, model_name, api_provider = setup_llm_client(model_name='gpt-4o')\n",
    "\n",
    "print('\u2705 Environment ready - Pure Python A2A implementation')"
   ]
  },
  {
   "cell_type": "markdown",
   "metadata": {},
   "source": [
    "## Step 2: Load Onboarding Data"
   ]
  },
  {
   "cell_type": "code",
   "execution_count": null,
   "metadata": {},
   "outputs": [],
   "source": [
    "# Load shared onboarding data\n",
    "assets_path = 'assets'\n",
    "\n",
    "with open(f'{assets_path}/onboarding_docs.json', 'r') as f:\n",
    "    onboarding_docs = json.load(f)\n",
    "\n",
    "with open(f'{assets_path}/roles_access_matrix.json', 'r') as f:\n",
    "    roles_access = json.load(f)\n",
    "\n",
    "with open(f'{assets_path}/training_catalog.json', 'r') as f:\n",
    "    training_catalog = json.load(f)\n",
    "\n",
    "with open(f'{assets_path}/new_hires_sample.json', 'r') as f:\n",
    "    new_hires = json.load(f)\n",
    "\n",
    "print(f'Loaded data for {len(new_hires[\"new_hires\"])} new hires')"
   ]
  },
  {
   "cell_type": "markdown",
   "metadata": {},
   "source": [
    "## Step 3: Define A2A Protocol Components\n",
    "\n",
    "We'll build the protocol from scratch:"
   ]
  },
  {
   "cell_type": "code",
   "execution_count": null,
   "metadata": {},
   "outputs": [],
   "source": [
    "# A2A Message Types\n",
    "class MessageType(Enum):\n",
    "    ANNOUNCE = 'announce'\n",
    "    REQUEST = 'request'\n",
    "    RESPONSE = 'response'\n",
    "    ERROR = 'error'\n",
    "    EVENT = 'event'\n",
    "\n",
    "# A2A Message Envelope\n",
    "@dataclass\n",
    "class A2AMessage:\n",
    "    protocol: str = 'a2a.v1'\n",
    "    msg_id: str = field(default_factory=lambda: str(uuid.uuid4()))\n",
    "    corr_id: Optional[str] = None\n",
    "    type: MessageType = MessageType.REQUEST\n",
    "    sender: str = ''\n",
    "    recipient: str = ''\n",
    "    capabilities: List[str] = field(default_factory=list)\n",
    "    payload: Dict[str, Any] = field(default_factory=dict)\n",
    "    ttl_ms: int = 10000\n",
    "    timestamp: str = field(default_factory=lambda: datetime.now().isoformat())\n",
    "    \n",
    "    def to_dict(self) -> Dict:\n",
    "        d = asdict(self)\n",
    "        d['type'] = self.type.value\n",
    "        return d\n",
    "\n",
    "print('\u2705 A2A Protocol components defined')"
   ]
  }
 ],
 "metadata": {
  "kernelspec": {
   "display_name": "Python 3",
   "language": "python",
   "name": "python3"
  },
  "language_info": {
   "name": "python",
   "version": "3.11.0"
  }
 },
 "nbformat": 4,
 "nbformat_minor": 4
}