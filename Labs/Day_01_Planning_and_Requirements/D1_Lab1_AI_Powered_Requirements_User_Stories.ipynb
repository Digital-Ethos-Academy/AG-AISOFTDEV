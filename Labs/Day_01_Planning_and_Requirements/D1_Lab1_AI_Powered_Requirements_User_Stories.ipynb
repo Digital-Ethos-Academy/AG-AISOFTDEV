{
 "cells": [
  {
   "cell_type": "markdown",
   "metadata": {},
   "source": [
    "# Day 1 - Lab 1: AI-Powered Requirements & User Stories\n",
    "\n",
    "**Objective:** Use a Large Language Model (LLM) to decompose a vague problem statement into structured features, user personas, and Agile user stories, culminating in a machine-readable JSON artifact.\n",
    "\n",
    "**Estimated Time:** 90 minutes\n",
    "\n",
    "**Introduction:**\n",
    "Welcome to the first hands-on lab of the AI-Driven Software Engineering Program! All great software projects begin with a clear understanding of the problem to be solved. In this lab, you will take on the role of a tech lead or product manager and use an LLM as a co-pilot to transform a simple, high-level problem into a set of well-defined, actionable requirements. This process is fundamental to ensuring that the team builds the *right* product.\n",
    "\n",
    "For definitions of key terms used in this lab, please refer to the [GLOSSARY.md](../../GLOSSARY.md)."
   ]
  },
  {
   "cell_type": "markdown",
   "metadata": {},
   "source": [
    "## Step 1: Setup\n",
    "\n",
    "This initial block sets up our environment. It adds the project's root directory to the Python path, allowing us to import our custom `utils.py` script. We then initialize the connection to our Large Language Model (LLM).\n",
    "\n",
    "**Model Selection:**\n",
    "Our `utils.py` script is configured to work with multiple AI providers. You can change the `model_name` parameter in the `setup_llm_client()` function to any of the models listed in the `RECOMMENDED_MODELS` dictionary in `utils.py`. For example, to use a Hugging Face model, you could change the line to: `client, model_name, api_provider = setup_llm_client(model_name=\"meta-llama/Llama-3.3-70B-Instruct\")`\n",
    "\n",
    "**Helper Functions Used:**\n",
    "- `setup_llm_client()`: To configure the API client for our chosen LLM.\n",
    "- `get_completion()`: To send a prompt to the LLM and get a response.\n",
    "- `save_artifact()`: To save our generated requirements to a file."
   ]
  },
  {
   "cell_type": "code",
   "metadata": {
    "ExecuteTime": {
     "end_time": "2025-10-27T20:57:36.089196Z",
     "start_time": "2025-10-27T20:57:36.069671Z"
    }
   },
   "source": [
    "import sys\n",
    "import os\n",
    "import json\n",
    "\n",
    "# Add the project's root directory to the Python path to ensure 'utils' can be imported.\n",
    "try:\n",
    "    # Assumes the notebook is in 'labs/Day_01_.../'\n",
    "    project_root = os.path.abspath(os.path.join(os.getcwd(), '..', '..'))\n",
    "except IndexError:\n",
    "    # Fallback for different execution environments\n",
    "    project_root = os.path.abspath(os.path.join(os.getcwd()))\n",
    "\n",
    "if project_root not in sys.path:\n",
    "    sys.path.insert(0, project_root)\n",
    "\n",
    "from utils import setup_llm_client, get_completion, save_artifact\n",
    "\n",
    "# Initialize the LLM client. You can change the model here.\n",
    "# For example: setup_llm_client(model_name=\"gemini-2.5-flash\")\n",
    "#client, model_name, api_provider = setup_llm_client(model_name=\"gpt-4o\")\n",
    "client, model_name, api_provider = setup_llm_client(model_name=\"gemini-2.5-pro\")"
   ],
   "outputs": [
    {
     "name": "stderr",
     "output_type": "stream",
     "text": [
      "2025-10-27 16:57:36,087 ag_aisoftdev.utils INFO LLM Client configured provider=google model=gemini-2.5-pro latency_ms=None artifacts_path=None\n"
     ]
    }
   ],
   "execution_count": 6
  },
  {
   "cell_type": "markdown",
   "metadata": {},
   "source": [
    "## Step 2: The Problem Statement\n",
    "\n",
    "Every project starts with a problem. Our problem is a common one in many organizations:\n",
    "\n",
    "> **\"We need a tool to help our company's new hires get up to speed.\"**\n",
    "\n",
    "This statement is intentionally vague. Our job is to use the LLM to add structure and detail to it."
   ]
  },
  {
   "cell_type": "code",
   "metadata": {
    "ExecuteTime": {
     "end_time": "2025-10-27T20:57:36.106496Z",
     "start_time": "2025-10-27T20:57:36.105029Z"
    }
   },
   "source": [
    "problem_statement = \"We need a tool to help our company's new hires get up to speed.\""
   ],
   "outputs": [],
   "execution_count": 7
  },
  {
   "cell_type": "markdown",
   "metadata": {},
   "source": [
    "## Step 3: The Challenges\n",
    "\n",
    "Complete the following challenges in order. Each one builds upon the last, increasing in technical complexity and value."
   ]
  },
  {
   "cell_type": "markdown",
   "metadata": {},
   "source": [
    "### Challenge 1 (Foundational): Brainstorming Features\n",
    "\n",
    "**Task:** Use the LLM to brainstorm a list of potential features and user personas based on the problem statement.\n",
    "\n",
    "**Instructions:**\n",
    "1. Write a simple prompt that asks the LLM to brainstorm features for the onboarding tool.\n",
    "2. Write a second prompt to identify three distinct user personas who would use this tool.\n",
    "3. Run both prompts and review the markdown output.\n",
    "\n",
    "**Expected Quality:** The output should be a simple, readable markdown list of features and a description of the personas. This is a good first step but lacks the structure needed for automation."
   ]
  },
  {
   "cell_type": "code",
   "metadata": {
    "ExecuteTime": {
     "end_time": "2025-10-27T20:58:33.778087Z",
     "start_time": "2025-10-27T20:57:36.116711Z"
    }
   },
   "source": [
    "# TODO: Create a string variable named 'features_prompt'.\n",
    "# This prompt should ask the LLM to brainstorm features based on the problem_statement.\n",
    "# features_prompt = \"\"\" # Your prompt here \"\"\"\n",
    "features_prompt = \"\"\" Our company is attempting to streamline the process for getting hew hires up to speed. Please create a markdown formatted list of ideas that can help to make the process more efficient. The idea is to make it easier for both our company as well as to make the transition easier for new employees. Additionally, decreasing the time to productivity for new employees is important. \"\"\"\n",
    "\n",
    "print(\"--- Brainstorming Features ---\")\n",
    "brainstormed_features = get_completion(features_prompt, client, model_name, api_provider)\n",
    "print(brainstormed_features)\n",
    "\n",
    "# TODO: Create a string variable named 'personas_prompt'.\n",
    "# This prompt should ask the LLM to identify three user personas based on the problem_statement.\n",
    "# personas_prompt = \"\"\" # Your prompt here \"\"\"\n",
    "personas_prompt = \"With regard to the ideas that we are brainstorming, please add a list of the three main personas that would be involved in the following problem statement: \" + problem_statement\n",
    "\n",
    "print(\"\\n--- Identifying User Personas ---\")\n",
    "user_personas = get_completion(personas_prompt, client, model_name, api_provider)\n",
    "print(user_personas)"
   ],
   "outputs": [
    {
     "name": "stdout",
     "output_type": "stream",
     "text": [
      "--- Brainstorming Features ---\n",
      "Of course! Here is a comprehensive list of ideas, formatted in markdown, to help streamline your new hire onboarding process. The list is broken down by phases to make it more actionable.\n",
      "\n",
      "---\n",
      "\n",
      "### Onboarding Streamlining & Efficiency Plan\n",
      "\n",
      "The goal of this plan is to create a structured, repeatable, and positive onboarding experience that reduces administrative burden, makes new hires feel welcome and supported, and accelerates their time to full productivity.\n",
      "\n",
      "### Phase 1: Pre-Boarding (Between Offer Acceptance and Day One)\n",
      "\n",
      "This phase is critical for making a great first impression and handling administrative tasks upfront so the first day is focused on integration, not paperwork.\n",
      "\n",
      "*   **Digitize All Paperwork**\n",
      "    *   Utilize an e-signature service (like DocuSign or HelloSign) or your HRIS (Human Resource Information System) to send and complete all HR forms, tax forms, and policy acknowledgments *before* the start date.\n",
      "    *   **Benefit:** Frees up the first morning for more valuable activities. The new hire feels prepared and the company looks organized.\n",
      "\n",
      "*   **Create a \"Welcome Packet\" (Digital or Physical)**\n",
      "    *   **Contents:**\n",
      "        *   A welcome letter from their manager and/or the CEO.\n",
      "        *   A detailed schedule for their first week.\n",
      "        *   An FAQ document (dress code, office hours, lunch spots, parking).\n",
      "        *   Company swag (t-shirt, mug, notebook) shipped to their home.\n",
      "    *   **Benefit:** Builds excitement and reduces first-day anxiety.\n",
      "\n",
      "*   **IT & Logistics Checklist**\n",
      "    *   Create a standardized, automated checklist for every new hire in a project management tool (like Asana, Trello, or Jira).\n",
      "    *   **Tasks to include:**\n",
      "        *   `[ ]` Order and configure laptop/equipment.\n",
      "        *   `[ ]` Create email account and all necessary software licenses (Slack/Teams, project management tools, etc.).\n",
      "        *   `[ ]` Set up their physical or virtual workspace.\n",
      "        *   `[ ]` Add them to relevant email distribution lists and chat channels.\n",
      "    *   **Benefit:** Ensures the new hire has everything they need to be productive from the moment they walk in. No more \"my laptop isn't ready\" delays.\n",
      "\n",
      "*   **Pre-Start Date Communication**\n",
      "    *   The hiring manager should send a brief, friendly email a few days before their start date, expressing excitement and confirming first-day logistics (where to go, who to ask for).\n",
      "    *   **Benefit:** A personal touch that makes the new hire feel valued and connected before they even start.\n",
      "\n",
      "### Phase 2: The First Week (Building a Strong Foundation)\n",
      "\n",
      "The first week should be a highly structured blend of learning, social integration, and initial small tasks.\n",
      "\n",
      "*   **Implement an Onboarding Buddy System**\n",
      "    *   Assign a peer (not their direct manager) to be the new hire's go-to person for informal questions.\n",
      "    *   The buddy's role: give an office tour, explain unwritten social rules, invite them to lunch, and be a friendly first point of contact.\n",
      "    *   **Benefit:** Fosters immediate social connection and provides a safe space to ask \"dumb\" questions.\n",
      "\n",
      "*   **Develop a Centralized Onboarding Hub**\n",
      "    *   Create a single source of truth using a tool like Confluence, Notion, or a SharePoint site.\n",
      "    *   **Content to include:**\n",
      "        *   Employee directory and org chart.\n",
      "        *   Links to all important tools and how to use them.\n",
      "        *   Key process documentation for their role.\n",
      "        *   Recordings of past training sessions.\n",
      "        *   A glossary of company acronyms and jargon.\n",
      "    *   **Benefit:** Empowers new hires to find answers independently, saving everyone time.\n",
      "\n",
      "*   **Structure the First Week's Schedule**\n",
      "    *   **Day 1:** Focus on welcome and setup. Meet the team, get equipment finalized, 1-on-1 with manager, team lunch.\n",
      "    *   **Days 2-5:** A mix of planned activities:\n",
      "        *   Short (30-min) introductory meetings with key collaborators from other teams.\n",
      "        *   Scheduled training sessions on core tools and processes.\n",
      "        *   Shadowing sessions with team members.\n",
      "        *   Time blocked for self-paced learning in the Onboarding Hub.\n",
      "    *   **Benefit:** Prevents the new hire from feeling lost or overwhelmed and ensures they get a holistic view of the company.\n",
      "\n",
      "*   **Assign a \"Quick Win\" Project**\n",
      "    *   Give the new hire a small, low-risk, well-defined task they can complete by the end of their first or second week.\n",
      "    *   **Example:** Documenting a process they just learned, fixing a small bug, or researching a competitor.\n",
      "    *   **Benefit:** Builds confidence and allows them to contribute meaningfully right away, which is a huge motivator.\n",
      "\n",
      "### Phase 3: The First 30-90 Days (Ramping to Productivity)\n",
      "\n",
      "This phase is about transitioning from learning to doing, with clear goals and consistent feedback.\n",
      "\n",
      "*   **Create a 30-60-90 Day Plan**\n",
      "    *   Work with the new hire to create a document outlining clear, achievable goals and expectations.\n",
      "        *   **First 30 Days:** Focus on *Learning*. Complete all training, meet key people, understand the tools and processes.\n",
      "        *   **First 60 Days:** Focus on *Contributing*. Begin taking on more complex tasks, collaborate on team projects, and require less supervision.\n",
      "        *   **First 90 Days:** Focus on *Owning*. Work independently, take initiative on projects, and begin suggesting process improvements.\n",
      "    *   **Benefit:** Provides a clear roadmap for success and a framework for performance conversations.\n",
      "\n",
      "*   **Schedule Regular, Structured Check-ins**\n",
      "    *   **Daily:** A quick 5-minute check-in with their manager or buddy for the first week.\n",
      "    *   **Weekly:** A dedicated 30-minute 1-on-1 with their manager to review the 30-60-90 plan, answer questions, and provide feedback.\n",
      "    *   **Monthly:** A 30-day and 90-day review to formally discuss progress and adjust the plan.\n",
      "    *   **Benefit:** Creates a continuous feedback loop, ensuring issues are addressed quickly and the new hire feels supported.\n",
      "\n",
      "*   **Invest in Role-Specific Onboarding Playbooks**\n",
      "    *   For each major role (e.g., Sales, Engineering, Marketing), create a specific playbook in your Onboarding Hub.\n",
      "    *   **Contents:**\n",
      "        *   **Engineer:** How to set up their local development environment, coding standards, the code review process.\n",
      "        *   **Sales Rep:** Ideal customer profile, sales scripts, CRM best practices, product battle cards.\n",
      "    *   **Benefit:** Drastically reduces the time it takes for a new hire to become effective in their specific role.\n",
      "\n",
      "### Phase 4: Continuous Improvement\n",
      "\n",
      "Onboarding isn't a \"set it and forget it\" process. It should evolve.\n",
      "\n",
      "*   **Gather Feedback**\n",
      "    *   At the 30-day and 90-day mark, ask for feedback on the onboarding process itself. Use a simple survey.\n",
      "    *   **Questions to ask:** \"What was most helpful?\", \"What was confusing?\", \"What do you wish you had known sooner?\".\n",
      "    *   **Benefit:** Provides actionable data to continuously refine and improve the process for future hires.\n",
      "\n",
      "*   **Turn New Hires into Documenters**\n",
      "    *   A great way to test a new hire's understanding is to ask them to document a process they just learned.\n",
      "    *   **Benefit:** This not only reinforces their learning but also helps you find and fill gaps in your existing documentation.\n",
      "\n",
      "--- Identifying User Personas ---\n",
      "Of course. To effectively design a tool for new hire onboarding, we need to understand the key players involved. Here are the three main personas who would interact with and benefit from this tool.\n",
      "\n",
      "---\n",
      "\n",
      "### The Three Main Personas\n",
      "\n",
      "#### 1. The New Hire: \"Amelia, the Ambitious Achiever\"\n",
      "\n",
      "Amelia is the primary user of the tool. She is motivated, a bit anxious, and eager to prove her worth. Her main goal is to move from feeling like an outsider to being a confident, contributing member of the team as quickly as possible.\n",
      "\n",
      "*   **Role:** Software Engineer II (or Marketing Specialist, Sales Rep, etc.)\n",
      "*   **Background:** Recently joined the company, might be a recent graduate or have a few years of experience from another company. Tech-savvy and expects a modern, digital experience.\n",
      "*   **Goals:**\n",
      "    *   To understand her specific role, responsibilities, and performance expectations.\n",
      "    *   To feel socially connected to her team and the company culture.\n",
      "    *   To become productive and make a tangible contribution quickly.\n",
      "    *   To find information independently without having to constantly ask \"silly\" questions.\n",
      "*   **Frustrations / Pain Points (without the tool):**\n",
      "    *   **Information Overload:** Being flooded with documents and links via email with no clear structure.\n",
      "    *   **Social Isolation:** Not knowing who's who, what the team norms are, or how to get help.\n",
      "    *   **Unclear Expectations:** Not having a clear roadmap for her first 30, 60, and 90 days.\n",
      "*   **How the Tool Helps Her:** The tool should be her \"single source of truth,\" providing a structured checklist, a company directory, access to key documents, and a clear timeline of what she needs to learn and accomplish.\n",
      "\n",
      "---\n",
      "\n",
      "#### 2. The Hiring Manager: \"David, the Dedicated Director\"\n",
      "\n",
      "David is responsible for his new hire's success, but he is also extremely busy with his own projects and managing the rest of his team. He needs the onboarding process to be efficient, effective, and require minimal repetitive work from him.\n",
      "\n",
      "*   **Role:** Marketing Manager (or Engineering Lead, Sales Director, etc.)\n",
      "*   **Background:** Experienced manager who has onboarded several people before, often with inconsistent, ad-hoc processes.\n",
      "*   **Goals:**\n",
      "    *   To get his new hire productive and integrated into the team with minimal disruption.\n",
      "    *   To ensure the new hire understands the team's specific goals, tools, and processes.\n",
      "    *   To spend his time on high-value coaching, not on repetitive administrative tasks.\n",
      "*   **Frustrations / Pain Points (without the tool):**\n",
      "    *   **Repetitive Work:** Answering the same questions and sending the same set of documents for every new hire.\n",
      "    *   **Lack of Visibility:** Forgetting what tasks have been assigned or completed, making it hard to track progress.\n",
      "    *   **Inconsistency:** Providing a different onboarding experience each time, leading to some new hires missing key information.\n",
      "*   **How the Tool Helps Him:** The tool should provide him with a customizable template for his team's onboarding plan, a dashboard to track Amelia's progress, and automated reminders for check-ins and tasks, freeing him up for meaningful interaction.\n",
      "\n",
      "---\n",
      "\n",
      "#### 3. The HR/People Ops Coordinator: \"Sarah, the Strategic Systemizer\"\n",
      "\n",
      "Sarah is responsible for the overall onboarding program at the company level. She is focused on consistency, compliance, and creating a positive and scalable experience for *all* new hires, regardless of their department.\n",
      "\n",
      "*   **Role:** HR Onboarding Specialist or People Operations Generalist\n",
      "*   **Background:** Manages the onboarding process for the entire company. She thinks in terms of process, data, and employee experience.\n",
      "*   **Goals:**\n",
      "    *   To ensure every new hire has a consistent and positive Day 1, Week 1, and Month 1 experience.\n",
      "    *   To track completion of mandatory compliance and administrative tasks (e.g., payroll, benefits, security training).\n",
      "    *   To measure the effectiveness of the onboarding program and continuously improve it.\n",
      "*   **Frustrations / Pain Points (without the tool):**\n",
      "    *   **Manual Tracking:** Using spreadsheets and email to track hundreds of tasks across dozens of new hires.\n",
      "    *   **Lack of Consistency:** Different departments have vastly different (or non-existent) onboarding processes, leading to an inequitable experience.\n",
      "    *   **No Data:** Inability to measure key metrics like time-to-productivity or new hire satisfaction with the onboarding process.\n",
      "*   **How the Tool Helps Her:** The tool should provide a central admin dashboard to manage all new hires, create standard onboarding templates for the whole company, run reports on progress and completion, and automate feedback collection.\n"
     ]
    }
   ],
   "execution_count": 8
  },
  {
   "cell_type": "markdown",
   "metadata": {},
   "source": [
    "### Challenge 2 (Intermediate): Generating Formal User Stories\n",
    "\n",
    "**Task:** Now, let's increase the value by generating structured, formal Agile User Stories.\n",
    "\n",
    "**Instructions:**\n",
    "1. Create a new, more sophisticated prompt.\n",
    "2. This prompt should instruct the LLM to act as a Senior Product Manager.\n",
    "3. It must use the brainstormed features and personas from the previous step as context.\n",
    "4. The key instruction is to generate a list of user stories, each with detailed acceptance criteria in Gherkin format (`Given/When/Then`).\n",
    "5. **Crucially, the prompt must demand the final output be a well-formed JSON array of objects.** Each object should represent a user story and have keys like `id`, `user_story`, `persona`, and `acceptance_criteria`.\n",
    "\n",
    "> **Tip:** If the LLM's output isn't perfect JSON, try making your prompt even more specific. You can tell it, 'Do not include any text before or after the JSON array. Your response must begin with [ and end with ].'\n",
    "\n",
    "**Expected Quality:** The output should not be markdown, but a clean, parsable JSON string. This is a significant step up in value, as a JSON artifact can be automatically processed by other systems (e.g., imported into Jira)."
   ]
  },
  {
   "cell_type": "code",
   "metadata": {
    "ExecuteTime": {
     "end_time": "2025-10-27T20:59:09.064418Z",
     "start_time": "2025-10-27T20:58:33.797401Z"
    }
   },
   "source": [
    "# TODO: Create a detailed prompt string named 'json_user_stories_prompt'.\n",
    "# This prompt needs to instruct the LLM to act as a Senior Product Manager and convert the\n",
    "# brainstormed features and personas into a structured JSON array of user stories.\n",
    "# Tip: Be very specific about the required JSON format in your prompt instructions. Tell it what keys to use and what the data types should be.\n",
    "json_user_stories_prompt = f\"\"\" \n",
    "\"You are a Senior Product Manager with extensive experience in Agile software development and writing high-quality user stories.\n",
    "\n",
    "  Based on the following brainstormed features and user personas, generate a comprehensive set of formal Agile User Stories.\n",
    "\n",
    "  BRAINSTORMED FEATURES:\n",
    "  {brainstormed_features}\n",
    "\n",
    "  USER PERSONAS:\n",
    "  {user_personas}\n",
    "\n",
    "  INSTRUCTIONS:\n",
    "  1. Create user stories in the standard format: \"As a [persona], I want [goal], so that [benefit]\"\n",
    "  2. Each user story must include detailed acceptance criteria in Gherkin format (Given/When/Then)\n",
    "  3. Ensure each user story is mapped to a relevant persona from the list above\n",
    "  4. Assign a unique sequential ID to each user story (starting from 1)\n",
    "\n",
    "  OUTPUT REQUIREMENTS:\n",
    "  - Your response MUST be a valid JSON array only\n",
    "  - Do not include any text, explanation, or markdown before or after the JSON\n",
    "  - Your response must begin with [ and end with ]\n",
    "  - Each user story must be a JSON object with these exact keys:\n",
    "    * \"id\": integer\n",
    "    * \"user_story\": string (the complete user story)\n",
    "    * \"persona\": string (the persona name)\n",
    "    * \"acceptance_criteria\": array of strings (each string is one Gherkin scenario)\n",
    "\n",
    "  EXAMPLE FORMAT:\n",
    "  [\n",
    "    {{\n",
    "      \"id\": 1,\n",
    "      \"user_story\": \"As a [persona], I want [goal], so that [benefit]\",\n",
    "      \"persona\": \"Persona Name\",\n",
    "      \"acceptance_criteria\": [\n",
    "        \"Given [initial context], When [action occurs], Then [expected outcome]\",\n",
    "        \"Given [another context], When [another action], Then [another outcome]\"\n",
    "      ]\n",
    "    }}\n",
    "  ]\n",
    "\n",
    "  Generate the user stories now. Output only the JSON array, nothing else.\n",
    "\"\"\"\n",
    "\n",
    "print(\"--- Generating User Stories as JSON ---\")\n",
    "json_output_str = get_completion(json_user_stories_prompt, client, model_name, api_provider, temperature=0.2)\n",
    "\n",
    "# Let's try to parse the JSON to see if the LLM followed instructions\n",
    "try:\n",
    "    # The LLM might wrap the JSON in markdown fences (```json ... ```).\n",
    "    # We'll clean that up before parsing.\n",
    "    if '```' in json_output_str:\n",
    "        json_output_str = json_output_str.split('```')[1].lstrip('json').strip()\n",
    "    \n",
    "    user_stories_json = json.loads(json_output_str)\n",
    "    print(\"Successfully parsed LLM output as JSON.\")\n",
    "    \n",
    "    if user_stories_json:\n",
    "        print(\"\\n--- Sample User Story ---\")\n",
    "        print(json.dumps(user_stories_json[0], indent=2))\n",
    "    else:\n",
    "        print(\"JSON array is empty.\")\n",
    "\n",
    "except (json.JSONDecodeError, TypeError, IndexError) as e:\n",
    "    print(f\"Error: Failed to parse LLM output as JSON. Error: {e}\")\n",
    "    print(\"LLM Output was:\\n\", json_output_str)\n",
    "    user_stories_json = []"
   ],
   "outputs": [
    {
     "name": "stdout",
     "output_type": "stream",
     "text": [
      "--- Generating User Stories as JSON ---\n",
      "Successfully parsed LLM output as JSON.\n",
      "\n",
      "--- Sample User Story ---\n",
      "{\n",
      "  \"id\": 1,\n",
      "  \"user_story\": \"As Sarah, the Strategic Systemizer, I want to create and manage standardized onboarding templates for the entire company, so that I can ensure a consistent and high-quality experience for every new hire.\",\n",
      "  \"persona\": \"Sarah, the Strategic Systemizer\",\n",
      "  \"acceptance_criteria\": [\n",
      "    \"Given I am logged in as an HR admin, When I navigate to the 'Templates' section, Then I should see an option to 'Create New Onboarding Template'.\",\n",
      "    \"Given I am creating a new template, When I add tasks for HR, IT, and the Hiring Manager, Then I can save the template for future use.\",\n",
      "    \"Given an existing template, When I edit it and save the changes, Then all future onboarding plans created from this template will reflect the changes.\"\n",
      "  ]\n",
      "}\n"
     ]
    }
   ],
   "execution_count": 9
  },
  {
   "cell_type": "markdown",
   "metadata": {},
   "source": [
    "### Challenge 3 (Advanced): Programmatic Validation and Artifact Creation\n",
    "\n",
    "**Task:** Now for the highest-value step. Instead of just looking at the JSON, we will programmatically validate it and save it as a formal project artifact. This ensures reliability and prepares the requirements for automated use in later stages of the SDLC.\n",
    "\n",
    "**Instructions:**\n",
    "1. Complete the `validate_and_save_stories` function below.\n",
    "2. The function should iterate through the list of stories.\n",
    "3. For each story, it must validate that the required keys are present and that the acceptance criteria list is not empty.\n",
    "4. If all stories are valid, it should save the data to `artifacts/day1_user_stories.json`.\n",
    "\n",
    "**Expected Quality:** A robust script that guarantees the integrity of our requirements artifact. The final output is a validated `day1_user_stories.json` file in the `artifacts` directory, ready to be used as a reliable input for Day 2."
   ]
  },
  {
   "cell_type": "code",
   "metadata": {
    "ExecuteTime": {
     "end_time": "2025-10-27T20:59:09.093042Z",
     "start_time": "2025-10-27T20:59:09.086835Z"
    }
   },
   "source": "def validate_and_save_stories(stories_data):\n    \"\"\"Validates the structure of the user stories data and saves it if valid.\"\"\"\n    if not isinstance(stories_data, list) or not stories_data:\n        print(\"Validation Failed: Data is not a non-empty list.\")\n        return\n\n    required_keys = ['id', 'persona', 'user_story', 'acceptance_criteria']\n    all_stories_valid = True\n\n    # TODO: Implement the validation logic inside this function.\n    # 1. Loop through each story in the 'stories_data' list.\n    # 2. For each story, check if it contains all the 'required_keys'.\n    # 3. Also check if the 'acceptance_criteria' list is not empty.\n    # 4. If a story is invalid, print an error message and set 'all_stories_valid' to False.\n    #    (You can use 'continue' to skip to the next story).\n\n    # Your validation code here\n    for story in stories_data:\n        # Check if story is a dictionary\n        if not isinstance(story, dict):\n            print(f\"Validation Failed: Story is not a dictionary: {story}\")\n            all_stories_valid = False\n            continue\n\n        # Check if all required keys are present\n        missing_keys = [key for key in required_keys if key not in story]\n        if missing_keys:\n            print(f\"Validation Failed: Story with id '{story.get('id', 'unknown')}' is missing keys: {missing_keys}\")\n            all_stories_valid = False\n            continue\n\n        # Check if acceptance_criteria is a non-empty list\n        acceptance_criteria = story.get('acceptance_criteria')\n        if not isinstance(acceptance_criteria, list) or len(acceptance_criteria) == 0:\n            print(f\"Validation Failed: Story with id '{story['id']}' has empty or invalid acceptance_criteria\")\n            all_stories_valid = False\n            continue\n\n    if all_stories_valid:\n        print(\"\\nAll user stories passed validation.\")\n        artifact_path = \"artifacts/day1_user_stories.json\"\n        \n        # TODO: Call the save_artifact function from utils.py to save the data.\n        # Remember to convert the Python list back to a JSON string using json.dumps().\n        json_string = json.dumps(stories_data, indent=2)\n        save_artifact(json_string, artifact_path)\n        print(f\"User stories saved to {artifact_path}\")\n        \n    else:\n        print(\"\\nValidation failed. Artifact not saved.\")\n\n# Run the validation on the JSON data from the previous step\nif 'user_stories_json' in locals() and user_stories_json:\n    validate_and_save_stories(user_stories_json)\nelse:\n    print(\"Skipping validation as user_stories_json is empty or not defined.\")",
   "outputs": [
    {
     "name": "stdout",
     "output_type": "stream",
     "text": [
      "\n",
      "All user stories passed validation.\n",
      "User stories saved to artifacts/day1_user_stories.json\n"
     ]
    }
   ],
   "execution_count": 10
  },
  {
   "cell_type": "markdown",
   "metadata": {},
   "source": [
    "## Lab Conclusion\n",
    "\n",
    "Congratulations! You have completed the first lab. You started with a vague, one-sentence problem and finished with a structured, validated, machine-readable requirements artifact. This is the critical first step in an AI-assisted software development lifecycle. The `day1_user_stories.json` file you created will be the direct input for our next lab, where we will generate a formal Product Requirements Document (PRD).\n",
    "\n",
    "> **Key Takeaway:** The single most important skill demonstrated in this lab is turning unstructured ideas into structured, machine-readable data (JSON). This transformation is what enables automation and integration with other tools later in the SDLC."
   ]
  }
 ],
 "metadata": {
  "kernelspec": {
   "display_name": ".venv",
   "language": "python",
   "name": "python3"
  },
  "language_info": {
   "codemirror_mode": {
    "name": "ipython",
    "version": 3
   },
   "file_extension": ".py",
   "mimetype": "text/x-python",
   "name": "python",
   "nbconvert_exporter": "python",
   "pygments_lexer": "ipython3",
   "version": "3.11.10"
  }
 },
 "nbformat": 4,
 "nbformat_minor": 4
}
